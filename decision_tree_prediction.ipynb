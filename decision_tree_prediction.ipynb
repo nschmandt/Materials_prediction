{
 "cells": [
  {
   "cell_type": "code",
   "execution_count": 1,
   "metadata": {
    "collapsed": false
   },
   "outputs": [
    {
     "name": "stderr",
     "output_type": "stream",
     "text": [
      "Using TensorFlow backend.\n"
     ]
    }
   ],
   "source": [
    "import tensorflow as tf\n",
    "from keras.models import Sequential\n",
    "from keras.layers import Dense, Dropout, Activation, Flatten\n",
    "from keras.layers import Convolution2D, MaxPooling2D\n",
    "from keras.utils import np_utils\n",
    "import matplotlib.pyplot as plt\n",
    "import pandas as pd\n",
    "import numpy as np\n",
    "import os\n",
    "import keras"
   ]
  },
  {
   "cell_type": "code",
   "execution_count": 25,
   "metadata": {
    "collapsed": false
   },
   "outputs": [
    {
     "name": "stdout",
     "output_type": "stream",
     "text": [
      "with 5 nodes, the mean f-score is 0.96\n",
      "True Positives: 452, False Positives: 14, False Negatives: 26\n",
      "with 10 nodes, the mean f-score is 0.98\n",
      "True Positives: 459, False Positives: 1, False Negatives: 18\n",
      "with 20 nodes, the mean f-score is 0.99\n",
      "True Positives: 474, False Positives: 0, False Negatives: 4\n",
      "with 40 nodes, the mean f-score is 1.00\n",
      "True Positives: 477, False Positives: 0, False Negatives: 0\n",
      "with 60 nodes, the mean f-score is 1.00\n",
      "True Positives: 478, False Positives: 0, False Negatives: 0\n",
      "with 80 nodes, the mean f-score is 1.00\n",
      "True Positives: 478, False Positives: 0, False Negatives: 0\n",
      "with 100 nodes, the mean f-score is 1.00\n",
      "True Positives: 478, False Positives: 0, False Negatives: 0\n",
      "with 150 nodes, the mean f-score is 1.00\n",
      "True Positives: 478, False Positives: 0, False Negatives: 0\n"
     ]
    }
   ],
   "source": [
    "#Let's start with a Random Forest Predictor, with 5 cross-validation sets\n",
    "#using the 2nd prediction set, let's see how many nodes are necessary for a good fit to the training set.\n",
    "\n",
    "train_f_score=[]\n",
    "j=2\n",
    "for k in [5, 10, 20, 40, 60, 80, 100, 150]:\n",
    "    f_score_values=[]\n",
    "    true_pos_scores=[]\n",
    "    false_pos_scores=[]\n",
    "    false_neg_scores=[]\n",
    "    #Cross Validation Groups\n",
    "    for i in range(5):\n",
    "        temp=list(range(5))\n",
    "        temp.remove(i)\n",
    "        #this is our set that is removed from training for validation\n",
    "        val=training_nonoble[i::5]\n",
    "        #training set consists of the other values\n",
    "        train_X=[training_nonoble[temp[0]::5], training_nonoble[temp[1]::5], training_nonoble[temp[2]::5], training_nonoble[temp[3]::5]]\n",
    "        train_X=pd.concat(train_X)\n",
    "        model=RandomForestClassifier(k, n_jobs=-1)\n",
    "        fit=model.fit(train_X[col_names], train_X['stabilityVec%s' % j])\n",
    "        rf_prediction=fit.predict(train_X[col_names])\n",
    "        temp=rf_prediction-train_X['stabilityVec%s' % j]\n",
    "        false_pos=sum(temp==1)\n",
    "        false_neg=sum(temp==-1)\n",
    "        temp=rf_prediction+train_X['stabilityVec%s' % j]\n",
    "        true_pos=sum(temp==2)\n",
    "        precision=true_pos/(true_pos+false_pos)\n",
    "        recall=true_pos/(true_pos+false_neg)\n",
    "        f_score=2*precision*recall/(precision+recall)\n",
    "        f_score_values.append(f_score)\n",
    "        true_pos_scores.append(true_pos)\n",
    "        false_pos_scores.append(false_pos)\n",
    "        false_neg_scores.append(false_neg)\n",
    "    train_f_score.append(np.mean(f_score_values))\n",
    "    print('with %s nodes, the mean f-score is %.2f' % (str(k), np.mean(f_score_values)))\n",
    "    print('True Positives: %d, False Positives: %d, False Negatives: %d' % (np.mean(true_pos_scores), \\\n",
    "            np.mean(false_pos_scores), np.mean(false_neg_scores)))"
   ]
  },
  {
   "cell_type": "code",
   "execution_count": 26,
   "metadata": {
    "collapsed": false
   },
   "outputs": [
    {
     "name": "stdout",
     "output_type": "stream",
     "text": [
      "with 5 nodes, the mean f-score is 0.66\n",
      "True Positives: 75, False Positives: 33, False Negatives: 44\n",
      "with 10 nodes, the mean f-score is 0.65\n",
      "True Positives: 67, False Positives: 21, False Negatives: 52\n",
      "with 20 nodes, the mean f-score is 0.67\n",
      "True Positives: 72, False Positives: 22, False Negatives: 47\n",
      "with 40 nodes, the mean f-score is 0.69\n",
      "True Positives: 74, False Positives: 22, False Negatives: 44\n",
      "with 60 nodes, the mean f-score is 0.70\n",
      "True Positives: 76, False Positives: 22, False Negatives: 43\n",
      "with 80 nodes, the mean f-score is 0.69\n",
      "True Positives: 76, False Positives: 25, False Negatives: 43\n",
      "with 100 nodes, the mean f-score is 0.70\n",
      "True Positives: 76, False Positives: 23, False Negatives: 43\n",
      "with 150 nodes, the mean f-score is 0.70\n",
      "True Positives: 76, False Positives: 22, False Negatives: 43\n"
     ]
    }
   ],
   "source": [
    "#Wow, nearly perfect fits for even the smallest set of nodes. Let's see how they perform on the test set.\n",
    "\n",
    "test_f_score=[]\n",
    "j=2\n",
    "for k in [5, 10, 20, 40, 60, 80, 100, 150]:\n",
    "    f_score_values=[]\n",
    "    true_pos_scores=[]\n",
    "    false_pos_scores=[]\n",
    "    false_neg_scores=[]\n",
    "    #Cross Validation Groups\n",
    "    for i in range(5):\n",
    "        temp=list(range(5))\n",
    "        temp.remove(i)\n",
    "        #this is our set that is removed from training for validation\n",
    "        val=training_nonoble[i::5]\n",
    "        #training set consists of the other values\n",
    "        train_X=[training_nonoble[temp[0]::5], training_nonoble[temp[1]::5], training_nonoble[temp[2]::5], training_nonoble[temp[3]::5]]\n",
    "        train_X=pd.concat(train_X)\n",
    "        model=RandomForestClassifier(k, n_jobs=-1)\n",
    "        fit=model.fit(train_X[col_names], train_X['stabilityVec%s' % j])\n",
    "        rf_prediction=fit.predict(val[col_names])\n",
    "        temp=rf_prediction-val['stabilityVec%s' % j]\n",
    "        false_pos=sum(temp==1)\n",
    "        false_neg=sum(temp==-1)\n",
    "        temp=rf_prediction+val['stabilityVec%s' % j]\n",
    "        true_pos=sum(temp==2)\n",
    "        precision=true_pos/(true_pos+false_pos)\n",
    "        recall=true_pos/(true_pos+false_neg)\n",
    "        f_score=2*precision*recall/(precision+recall)\n",
    "        f_score_values.append(f_score)\n",
    "        true_pos_scores.append(true_pos)\n",
    "        false_pos_scores.append(false_pos)\n",
    "        false_neg_scores.append(false_neg)\n",
    "    test_f_score.append(np.mean(f_score_values))\n",
    "    print('with %s nodes, the mean f-score is %.2f' % (str(k), np.mean(f_score_values)))\n",
    "    print('True Positives: %d, False Positives: %d, False Negatives: %d' % (np.mean(true_pos_scores), \\\n",
    "            np.mean(false_pos_scores), np.mean(false_neg_scores)))\n",
    "    "
   ]
  },
  {
   "cell_type": "code",
   "execution_count": 27,
   "metadata": {
    "collapsed": false
   },
   "outputs": [
    {
     "data": {
      "image/png": "[encoded data removed]",
      "text/plain": [
       "<matplotlib.figure.Figure at 0x7fd3d38e40f0>"
      ]
     },
     "metadata": {},
     "output_type": "display_data"
    }
   ],
   "source": [
    "#the random forest seems to be doing very well with this data set, and there doesn't seem to be any evidence of\n",
    "#overfitting.\n",
    "plt.plot([5, 10, 20, 40, 60, 80, 100, 150], train_f_score, label='train')\n",
    "plt.plot([5, 10, 20, 40, 60, 80, 100, 150], test_f_score, label='test')\n",
    "plt.legend()\n",
    "plt.show()"
   ]
  },
  {
   "cell_type": "code",
   "execution_count": 28,
   "metadata": {
    "collapsed": false
   },
   "outputs": [
    {
     "name": "stdout",
     "output_type": "stream",
     "text": [
      "with 5 nodes, the mean f-score is 0.91\n",
      "True Positives: 59, False Positives: 0, False Negatives: 11\n",
      "with 10 nodes, the mean f-score is 0.93\n",
      "True Positives: 61, False Positives: 0, False Negatives: 8\n",
      "with 20 nodes, the mean f-score is 0.99\n",
      "True Positives: 68, False Positives: 0, False Negatives: 1\n",
      "with 40 nodes, the mean f-score is 0.99\n",
      "True Positives: 69, False Positives: 0, False Negatives: 0\n",
      "with 60 nodes, the mean f-score is 1.00\n",
      "True Positives: 70, False Positives: 0, False Negatives: 0\n",
      "with 80 nodes, the mean f-score is 1.00\n",
      "True Positives: 70, False Positives: 0, False Negatives: 0\n",
      "with 100 nodes, the mean f-score is 1.00\n",
      "True Positives: 70, False Positives: 0, False Negatives: 0\n",
      "with 150 nodes, the mean f-score is 1.00\n",
      "True Positives: 70, False Positives: 0, False Negatives: 0\n"
     ]
    }
   ],
   "source": [
    "#I'm going to try again with a more sparsely populated vector here:\n",
    "\n",
    "train_f_score=[]\n",
    "j=1\n",
    "for k in [5, 10, 20, 40, 60, 80, 100, 150]:\n",
    "    f_score_values=[]\n",
    "    true_pos_scores=[]\n",
    "    false_pos_scores=[]\n",
    "    false_neg_scores=[]\n",
    "    #Cross Validation Groups\n",
    "    for i in range(5):\n",
    "        temp=list(range(5))\n",
    "        temp.remove(i)\n",
    "        #this is our set that is removed from training for validation\n",
    "        val=training_nonoble[i::5]\n",
    "        #training set consists of the other values\n",
    "        train_X=[training_nonoble[temp[0]::5], training_nonoble[temp[1]::5], training_nonoble[temp[2]::5], training_nonoble[temp[3]::5]]\n",
    "        train_X=pd.concat(train_X)\n",
    "        model=RandomForestClassifier(k, n_jobs=-1)\n",
    "        fit=model.fit(train_X[col_names], train_X['stabilityVec%s' % j])\n",
    "        rf_prediction=fit.predict(train_X[col_names])\n",
    "        temp=rf_prediction-train_X['stabilityVec%s' % j]\n",
    "        false_pos=sum(temp==1)\n",
    "        false_neg=sum(temp==-1)\n",
    "        temp=rf_prediction+train_X['stabilityVec%s' % j]\n",
    "        true_pos=sum(temp==2)\n",
    "        precision=true_pos/(true_pos+false_pos)\n",
    "        recall=true_pos/(true_pos+false_neg)\n",
    "        f_score=2*precision*recall/(precision+recall)\n",
    "        f_score_values.append(f_score)\n",
    "        true_pos_scores.append(true_pos)\n",
    "        false_pos_scores.append(false_pos)\n",
    "        false_neg_scores.append(false_neg)\n",
    "    train_f_score.append(np.mean(f_score_values))\n",
    "    print('with %s nodes, the mean f-score is %.2f' % (str(k), np.mean(f_score_values)))\n",
    "    print('True Positives: %d, False Positives: %d, False Negatives: %d' % (np.mean(true_pos_scores), \\\n",
    "            np.mean(false_pos_scores), np.mean(false_neg_scores)))"
   ]
  },
  {
   "cell_type": "code",
   "execution_count": 29,
   "metadata": {
    "collapsed": false
   },
   "outputs": [
    {
     "name": "stdout",
     "output_type": "stream",
     "text": [
      "with 5 nodes, the mean f-score is 0.31\n",
      "True Positives: 4, False Positives: 4, False Negatives: 13\n",
      "with 10 nodes, the mean f-score is 0.27\n",
      "True Positives: 3, False Positives: 1, False Negatives: 14\n"
     ]
    },
    {
     "name": "stderr",
     "output_type": "stream",
     "text": [
      "/home/nick/anaconda3/lib/python3.6/site-packages/ipykernel/__main__.py:27: RuntimeWarning: invalid value encountered in long_scalars\n"
     ]
    },
    {
     "name": "stdout",
     "output_type": "stream",
     "text": [
      "with 20 nodes, the mean f-score is nan\n",
      "True Positives: 2, False Positives: 1, False Negatives: 15\n",
      "with 40 nodes, the mean f-score is 0.29\n",
      "True Positives: 3, False Positives: 1, False Negatives: 14\n",
      "with 60 nodes, the mean f-score is 0.23\n",
      "True Positives: 2, False Positives: 1, False Negatives: 15\n",
      "with 80 nodes, the mean f-score is 0.26\n",
      "True Positives: 2, False Positives: 1, False Negatives: 14\n",
      "with 100 nodes, the mean f-score is 0.29\n",
      "True Positives: 3, False Positives: 0, False Negatives: 14\n",
      "with 150 nodes, the mean f-score is 0.26\n",
      "True Positives: 2, False Positives: 1, False Negatives: 14\n"
     ]
    }
   ],
   "source": [
    "#Wow, nearly perfect fits for even the smallest set of nodes. Let's see how they perform on the test set.\n",
    "\n",
    "test_f_score=[]\n",
    "j=1\n",
    "for k in [5, 10, 20, 40, 60, 80, 100, 150]:\n",
    "    f_score_values=[]\n",
    "    true_pos_scores=[]\n",
    "    false_pos_scores=[]\n",
    "    false_neg_scores=[]\n",
    "    #Cross Validation Groups\n",
    "    for i in range(5):\n",
    "        temp=list(range(5))\n",
    "        temp.remove(i)\n",
    "        #this is our set that is removed from training for validation\n",
    "        val=training_nonoble[i::5]\n",
    "        #training set consists of the other values\n",
    "        train_X=[training_nonoble[temp[0]::5], training_nonoble[temp[1]::5], training_nonoble[temp[2]::5], training_nonoble[temp[3]::5]]\n",
    "        train_X=pd.concat(train_X)\n",
    "        model=RandomForestClassifier(k, n_jobs=-1)\n",
    "        fit=model.fit(train_X[col_names], train_X['stabilityVec%s' % j])\n",
    "        rf_prediction=fit.predict(val[col_names])\n",
    "        temp=rf_prediction-val['stabilityVec%s' % j]\n",
    "        false_pos=sum(temp==1)\n",
    "        false_neg=sum(temp==-1)\n",
    "        temp=rf_prediction+val['stabilityVec%s' % j]\n",
    "        true_pos=sum(temp==2)\n",
    "        precision=true_pos/(true_pos+false_pos)\n",
    "        recall=true_pos/(true_pos+false_neg)\n",
    "        f_score=2*precision*recall/(precision+recall)\n",
    "        f_score_values.append(f_score)\n",
    "        true_pos_scores.append(true_pos)\n",
    "        false_pos_scores.append(false_pos)\n",
    "        false_neg_scores.append(false_neg)\n",
    "    test_f_score.append(np.mean(f_score_values))\n",
    "    print('with %s nodes, the mean f-score is %.2f' % (str(k), np.mean(f_score_values)))\n",
    "    print('True Positives: %d, False Positives: %d, False Negatives: %d' % (np.mean(true_pos_scores), \\\n",
    "            np.mean(false_pos_scores), np.mean(false_neg_scores)))"
   ]
  },
  {
   "cell_type": "code",
   "execution_count": 30,
   "metadata": {
    "collapsed": false
   },
   "outputs": [
    {
     "data": {
      "image/png": "[encoded data removed]",
      "text/plain": [
       "<matplotlib.figure.Figure at 0x7fd3d0fe2e10>"
      ]
     },
     "metadata": {},
     "output_type": "display_data"
    }
   ],
   "source": [
    "#Again, this is a pretty good performance, with no evidence of overfitting.\n",
    "plt.plot([5, 10, 20, 40, 60, 80, 100, 150], train_f_score, label='train')\n",
    "plt.plot([5, 10, 20, 40, 60, 80, 100, 150], test_f_score, label='test')\n",
    "plt.legend()\n",
    "plt.show()"
   ]
  },
  {
   "cell_type": "code",
   "execution_count": 37,
   "metadata": {
    "collapsed": false
   },
   "outputs": [
    {
     "name": "stdout",
     "output_type": "stream",
     "text": [
      "for vector 0, the mean f-score is 0.32\n",
      "True Positives: 2, False Positives: 1, False Negatives: 7\n",
      "for vector 1, the mean f-score is 0.22\n",
      "True Positives: 2, False Positives: 0, False Negatives: 15\n",
      "for vector 2, the mean f-score is 0.69\n",
      "True Positives: 75, False Positives: 22, False Negatives: 44\n",
      "for vector 3, the mean f-score is 0.39\n",
      "True Positives: 9, False Positives: 3, False Negatives: 25\n",
      "for vector 4, the mean f-score is 0.70\n",
      "True Positives: 72, False Positives: 18, False Negatives: 44\n",
      "for vector 5, the mean f-score is 0.40\n",
      "True Positives: 10, False Positives: 3, False Negatives: 26\n",
      "for vector 6, the mean f-score is 0.48\n",
      "True Positives: 26, False Positives: 11, False Negatives: 45\n",
      "for vector 7, the mean f-score is 0.56\n",
      "True Positives: 35, False Positives: 12, False Negatives: 42\n",
      "for vector 8, the mean f-score is 0.41\n",
      "True Positives: 3, False Positives: 1, False Negatives: 8\n"
     ]
    }
   ],
   "source": [
    "#Let's go for 100 nodes and loop over all 9 of the vectors.\n",
    "for j in range(9):\n",
    "    f_score_values=[]\n",
    "    true_pos_scores=[]\n",
    "    false_pos_scores=[]\n",
    "    false_neg_scores=[]\n",
    "    #Cross Validation Groups\n",
    "    for i in range(5):\n",
    "        temp=list(range(5))\n",
    "        temp.remove(i)\n",
    "        #this is our set that is removed from training for validation\n",
    "        val=training_nonoble[i::5]\n",
    "        #training set consists of the other values\n",
    "        train_X=[training_nonoble[temp[0]::5], training_nonoble[temp[1]::5], training_nonoble[temp[2]::5], training_nonoble[temp[3]::5]]\n",
    "        train_X=pd.concat(train_X)\n",
    "        model=RandomForestClassifier(100, n_jobs=-1)\n",
    "        fit=model.fit(train_X[col_names], train_X['stabilityVec%s' % j])\n",
    "        rf_prediction=fit.predict(val[col_names])\n",
    "        temp=rf_prediction-val['stabilityVec%s' % j]\n",
    "        false_pos=sum(temp==1)\n",
    "        false_neg=sum(temp==-1)\n",
    "        temp=rf_prediction+val['stabilityVec%s' % j]\n",
    "        true_pos=sum(temp==2)\n",
    "        precision=true_pos/(true_pos+false_pos)\n",
    "        recall=true_pos/(true_pos+false_neg)\n",
    "        f_score=2*precision*recall/(precision+recall)\n",
    "        if np.isnan(f_score): f_score=0\n",
    "        f_score_values.append(f_score)\n",
    "        true_pos_scores.append(true_pos)\n",
    "        false_pos_scores.append(false_pos)\n",
    "        false_neg_scores.append(false_neg)\n",
    "    print('for vector %s, the mean f-score is %.2f' % (str(j), np.mean(f_score_values)))\n",
    "    print('True Positives: %d, False Positives: %d, False Negatives: %d' % (np.mean(true_pos_scores), \\\n",
    "            np.mean(false_pos_scores), np.mean(false_neg_scores)))\n",
    "    "
   ]
  },
  {
   "cell_type": "code",
   "execution_count": 38,
   "metadata": {
    "collapsed": false
   },
   "outputs": [
    {
     "name": "stdout",
     "output_type": "stream",
     "text": [
      "for vector 0, the mean f-score is 0.29\n",
      "True Positives: 2, False Positives: 4, False Negatives: 7\n",
      "for vector 1, the mean f-score is 0.34\n",
      "True Positives: 4, False Positives: 2, False Negatives: 13\n",
      "for vector 2, the mean f-score is 0.67\n",
      "True Positives: 70, False Positives: 21, False Negatives: 49\n",
      "for vector 3, the mean f-score is 0.33\n",
      "True Positives: 8, False Positives: 6, False Negatives: 26\n",
      "for vector 4, the mean f-score is 0.66\n",
      "True Positives: 67, False Positives: 21, False Negatives: 49\n",
      "for vector 5, the mean f-score is 0.37\n",
      "True Positives: 9, False Positives: 5, False Negatives: 27\n",
      "for vector 6, the mean f-score is 0.46\n",
      "True Positives: 25, False Positives: 10, False Negatives: 47\n",
      "for vector 7, the mean f-score is 0.52\n",
      "True Positives: 33, False Positives: 14, False Negatives: 45\n",
      "for vector 8, the mean f-score is 0.37\n",
      "True Positives: 3, False Positives: 5, False Negatives: 8\n"
     ]
    }
   ],
   "source": [
    "#Not bad! Now, let's give gradient boosting a try.\n",
    "for j in range(9):\n",
    "    f_score_values=[]\n",
    "    true_pos_scores=[]\n",
    "    false_pos_scores=[]\n",
    "    false_neg_scores=[]\n",
    "    #Cross Validation Groups\n",
    "    for i in range(5):\n",
    "        temp=list(range(5))\n",
    "        temp.remove(i)\n",
    "        #this is our set that is removed from training for validation\n",
    "        val=training_nonoble[i::5]\n",
    "        #training set consists of the other values\n",
    "        train_X=[training_nonoble[temp[0]::5], training_nonoble[temp[1]::5], training_nonoble[temp[2]::5], training_nonoble[temp[3]::5]]\n",
    "        train_X=pd.concat(train_X)\n",
    "        model=GradientBoostingClassifier()\n",
    "        fit=model.fit(train_X[col_names], train_X['stabilityVec%s' % j])\n",
    "        gb_prediction=fit.predict(val[col_names])\n",
    "        temp=gb_prediction-val['stabilityVec%s' % j]\n",
    "        false_pos=sum(temp==1)\n",
    "        false_neg=sum(temp==-1)\n",
    "        temp=gb_prediction+val['stabilityVec%s' % j]\n",
    "        true_pos=sum(temp==2)\n",
    "        precision=true_pos/(true_pos+false_pos)\n",
    "        recall=true_pos/(true_pos+false_neg)\n",
    "        f_score=2*precision*recall/(precision+recall)\n",
    "        if np.isnan(f_score): f_score=0\n",
    "        f_score_values.append(f_score)\n",
    "        true_pos_scores.append(true_pos)\n",
    "        false_pos_scores.append(false_pos)\n",
    "        false_neg_scores.append(false_neg)\n",
    "    print('for vector %s, the mean f-score is %.2f' % (str(j), np.mean(f_score_values)))\n",
    "    print('True Positives: %d, False Positives: %d, False Negatives: %d' % (np.mean(true_pos_scores), \\\n",
    "            np.mean(false_pos_scores), np.mean(false_neg_scores)))"
   ]
  },
  {
   "cell_type": "code",
   "execution_count": 91,
   "metadata": {
    "collapsed": false
   },
   "outputs": [
    {
     "name": "stdout",
     "output_type": "stream",
     "text": [
      "Training set vector 0 prediction ratio is 0.02\n",
      "Test set vector 0 prediction ratio is 0.05\n",
      "Training set vector 1 prediction ratio is 0.03\n",
      "Test set vector 1 prediction ratio is 0.06\n",
      "Training set vector 2 prediction ratio is 0.21\n",
      "Test set vector 2 prediction ratio is 0.20\n",
      "Training set vector 3 prediction ratio is 0.05\n",
      "Test set vector 3 prediction ratio is 0.06\n",
      "Training set vector 4 prediction ratio is 0.21\n",
      "Test set vector 4 prediction ratio is 0.24\n",
      "Training set vector 5 prediction ratio is 0.05\n",
      "Test set vector 5 prediction ratio is 0.04\n",
      "Training set vector 6 prediction ratio is 0.10\n",
      "Test set vector 6 prediction ratio is 0.12\n",
      "Training set vector 7 prediction ratio is 0.12\n",
      "Test set vector 7 prediction ratio is 0.11\n",
      "Training set vector 8 prediction ratio is 0.03\n",
      "Test set vector 8 prediction ratio is 0.08\n"
     ]
    }
   ],
   "source": [
    "#The two are pretty similar, which makes sense. I'll go ahead and make a prediction on the test dataset, though \n",
    "#I am still waiting on some results for neural nets before I decide which to ultimately use for my submission.\n",
    "\n",
    "#Test data was processed identically to the training data and normalized the same way, removing noble gases and\n",
    "#then dividing by the max value of each column.\n",
    "\n",
    "#Sanity check ratios are included.\n",
    "\n",
    "for j in range(9):\n",
    "    model=GradientBoostingClassifier()\n",
    "    fit=model.fit(training_nonoble[col_names], training_nonoble['stabilityVec%s' % j])\n",
    "    gb_prediction=fit.predict(training_nonoble[col_names])\n",
    "    print('Training set vector %s prediction ratio is %.2f' %(j, np.sum(gb_prediction)/len(gb_prediction)))\n",
    "    gb_prediction=fit.predict(test[col_names])\n",
    "    print('Test set vector %s prediction ratio is %.2f' %(j, np.sum(gb_prediction)/len(gb_prediction)))\n",
    "    test['stabilityVec%s' % j] = gb_prediction"
   ]
  },
  {
   "cell_type": "code",
   "execution_count": 96,
   "metadata": {
    "collapsed": false
   },
   "outputs": [
    {
     "name": "stderr",
     "output_type": "stream",
     "text": [
      "/home/nick/anaconda3/lib/python3.6/site-packages/ipykernel/__main__.py:10: SettingWithCopyWarning: \n",
      "A value is trying to be set on a copy of a slice from a DataFrame\n",
      "\n",
      "See the caveats in the documentation: http://pandas.pydata.org/pandas-docs/stable/indexing.html#indexing-view-versus-copy\n",
      "/home/nick/anaconda3/lib/python3.6/site-packages/ipykernel/__main__.py:6: SettingWithCopyWarning: \n",
      "A value is trying to be set on a copy of a slice from a DataFrame\n",
      "\n",
      "See the caveats in the documentation: http://pandas.pydata.org/pandas-docs/stable/indexing.html#indexing-view-versus-copy\n"
     ]
    }
   ],
   "source": [
    "#Those numbers look reasonable.\n",
    "#Setting noble gas predictions to zero\n",
    "for i in range(len(test)):\n",
    "    if test['formulaA'][i] in ['Ne', 'Ar', 'Kr', 'He', 'Xe']:\n",
    "        for j in range(9):\n",
    "            test['stabilityVec%s' % j][i]=0\n",
    "    \n",
    "    if test['formulaB'][i] in ['Ne', 'Ar', 'Kr', 'He', 'Xe']:\n",
    "        for j in range(9):\n",
    "            test['stabilityVec%s' % j][i]=0"
   ]
  },
  {
   "cell_type": "code",
   "execution_count": 123,
   "metadata": {
    "collapsed": false
   },
   "outputs": [
    {
     "name": "stderr",
     "output_type": "stream",
     "text": [
      "/home/nick/anaconda3/lib/python3.6/site-packages/ipykernel/__main__.py:1: SettingWithCopyWarning: \n",
      "A value is trying to be set on a copy of a slice from a DataFrame\n",
      "\n",
      "See the caveats in the documentation: http://pandas.pydata.org/pandas-docs/stable/indexing.html#indexing-view-versus-copy\n",
      "  if __name__ == '__main__':\n",
      "/home/nick/anaconda3/lib/python3.6/site-packages/ipykernel/__main__.py:4: SettingWithCopyWarning: \n",
      "A value is trying to be set on a copy of a slice from a DataFrame\n",
      "\n",
      "See the caveats in the documentation: http://pandas.pydata.org/pandas-docs/stable/indexing.html#indexing-view-versus-copy\n",
      "/home/nick/anaconda3/lib/python3.6/site-packages/ipykernel/__main__.py:5: SettingWithCopyWarning: \n",
      "A value is trying to be set on a copy of a slice from a DataFrame\n",
      "\n",
      "See the caveats in the documentation: http://pandas.pydata.org/pandas-docs/stable/indexing.html#indexing-view-versus-copy\n"
     ]
    }
   ],
   "source": [
    "#reformat the data into a .1 float string of values\n",
    "test['stabilityVec'][i]='[1.0,'\n",
    "for i in range(len(test)):\n",
    "    for j in range(9):\n",
    "        test['stabilityVec'][i]+='%.1f,' % test['stabilityVec%s' % j][i]\n",
    "    test['stabilityVec'][i]+='1.0]'"
   ]
  },
  {
   "cell_type": "code",
   "execution_count": 126,
   "metadata": {
    "collapsed": false
   },
   "outputs": [
    {
     "data": {
      "text/plain": [
       "0     [1.0,1.0,0.0,0.0,0.0,0.0,0.0,0.0,0.0,0.0,1.0]\n",
       "1     [1.0,1.0,0.0,0.0,0.0,0.0,0.0,0.0,0.0,0.0,1.0]\n",
       "2     [1.0,0.0,0.0,0.0,0.0,0.0,0.0,0.0,0.0,0.0,1.0]\n",
       "3     [1.0,0.0,0.0,0.0,0.0,0.0,0.0,0.0,0.0,0.0,1.0]\n",
       "4     [1.0,0.0,0.0,0.0,0.0,0.0,0.0,0.0,0.0,0.0,1.0]\n",
       "5     [1.0,0.0,0.0,0.0,0.0,0.0,0.0,0.0,0.0,0.0,1.0]\n",
       "6     [1.0,0.0,0.0,0.0,0.0,0.0,0.0,0.0,0.0,0.0,1.0]\n",
       "7     [1.0,0.0,0.0,1.0,0.0,1.0,0.0,0.0,0.0,0.0,1.0]\n",
       "8     [1.0,0.0,0.0,0.0,0.0,0.0,0.0,0.0,0.0,0.0,1.0]\n",
       "9     [1.0,0.0,0.0,0.0,0.0,1.0,0.0,0.0,0.0,0.0,1.0]\n",
       "10    [1.0,0.0,0.0,0.0,0.0,0.0,0.0,0.0,0.0,0.0,1.0]\n",
       "11    [1.0,0.0,0.0,0.0,0.0,0.0,0.0,1.0,1.0,0.0,1.0]\n",
       "12    [1.0,0.0,0.0,0.0,0.0,1.0,0.0,0.0,0.0,0.0,1.0]\n",
       "13    [1.0,0.0,0.0,0.0,0.0,0.0,0.0,0.0,0.0,0.0,1.0]\n",
       "14    [1.0,0.0,0.0,0.0,0.0,1.0,0.0,1.0,0.0,0.0,1.0]\n",
       "15    [1.0,0.0,0.0,0.0,0.0,0.0,0.0,0.0,0.0,0.0,1.0]\n",
       "16    [1.0,0.0,0.0,0.0,0.0,0.0,0.0,0.0,0.0,0.0,1.0]\n",
       "17    [1.0,0.0,0.0,0.0,0.0,0.0,0.0,0.0,0.0,0.0,1.0]\n",
       "18    [1.0,0.0,0.0,0.0,0.0,1.0,0.0,0.0,1.0,1.0,1.0]\n",
       "19    [1.0,0.0,0.0,0.0,0.0,0.0,0.0,0.0,0.0,0.0,1.0]\n",
       "20    [1.0,0.0,0.0,0.0,0.0,0.0,0.0,0.0,0.0,0.0,1.0]\n",
       "21    [1.0,0.0,0.0,0.0,0.0,0.0,0.0,0.0,0.0,1.0,1.0]\n",
       "22    [1.0,0.0,0.0,0.0,0.0,0.0,0.0,1.0,0.0,0.0,1.0]\n",
       "23    [1.0,0.0,0.0,0.0,0.0,0.0,1.0,0.0,1.0,0.0,1.0]\n",
       "24    [1.0,0.0,0.0,0.0,0.0,0.0,0.0,0.0,0.0,0.0,1.0]\n",
       "Name: stabilityVec, dtype: object"
      ]
     },
     "execution_count": 126,
     "metadata": {},
     "output_type": "execute_result"
    }
   ],
   "source": [
    "test['stabilityVec'].head(n=25)"
   ]
  },
  {
   "cell_type": "code",
   "execution_count": 127,
   "metadata": {
    "collapsed": false
   },
   "outputs": [],
   "source": [
    "#Hope its reasonably right! Time to save the values\n",
    "test.to_csv('test_data_output.csv')"
   ]
  },
  {
   "cell_type": "code",
   "execution_count": 128,
   "metadata": {
    "collapsed": false
   },
   "outputs": [
    {
     "data": {
      "text/plain": [
       "0    [1.0,1.0,0.0,0.0,0.0,0.0,0.0,0.0,0.0,0.0,1.0]\n",
       "1    [1.0,1.0,0.0,0.0,0.0,0.0,0.0,0.0,0.0,0.0,1.0]\n",
       "2    [1.0,0.0,0.0,0.0,0.0,0.0,0.0,0.0,0.0,0.0,1.0]\n",
       "3    [1.0,0.0,0.0,0.0,0.0,0.0,0.0,0.0,0.0,0.0,1.0]\n",
       "4    [1.0,0.0,0.0,0.0,0.0,0.0,0.0,0.0,0.0,0.0,1.0]\n",
       "Name: stabilityVec, dtype: object"
      ]
     },
     "execution_count": 128,
     "metadata": {},
     "output_type": "execute_result"
    }
   ],
   "source": [
    "#Double Check\n",
    "temp=pd.read_csv('test_data_output.csv')\n",
    "temp['stabilityVec'].head()"
   ]
  },
  {
   "cell_type": "code",
   "execution_count": null,
   "metadata": {
    "collapsed": true
   },
   "outputs": [],
   "source": [
    "#Looks OK! We'll see what happens."
   ]
  }
 ],
 "metadata": {
  "kernelspec": {
   "display_name": "Python 3",
   "language": "python",
   "name": "python3"
  },
  "language_info": {
   "codemirror_mode": {
    "name": "ipython",
    "version": 3
   },
   "file_extension": ".py",
   "mimetype": "text/x-python",
   "name": "python",
   "nbconvert_exporter": "python",
   "pygments_lexer": "ipython3",
   "version": "3.6.0"
  }
 },
 "nbformat": 4,
 "nbformat_minor": 2
}
