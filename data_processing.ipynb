{
 "cells": [
  {
   "cell_type": "code",
   "execution_count": 1,
   "metadata": {
    "collapsed": true
   },
   "outputs": [],
   "source": [
    "import os\n",
    "import pandas as pd\n",
    "import numpy as np\n",
    "import matplotlib.pyplot as plt\n",
    "import sklearn\n",
    "import sklearn.preprocessing\n",
    "import sklearn.model_selection\n",
    "from sklearn.linear_model import LogisticRegression\n",
    "from sklearn.ensemble import RandomForestClassifier\n",
    "from sklearn.ensemble import GradientBoostingClassifier"
   ]
  },
  {
   "cell_type": "code",
   "execution_count": 2,
   "metadata": {
    "collapsed": true
   },
   "outputs": [],
   "source": [
    "#for linux workstation\n",
    "os.chdir('/home/nick/Citrine_challenge/challenge_data/')\n",
    "\n",
    "#load the data\n",
    "training=pd.read_csv('training_data.csv')\n",
    "\n",
    "#separate the output vector\n",
    "output=training['stabilityVec']"
   ]
  },
  {
   "cell_type": "code",
   "execution_count": 3,
   "metadata": {
    "collapsed": true
   },
   "outputs": [],
   "source": [
    "#remove the square brackets from the string\n",
    "output=[m.strip('[') for m in output]\n",
    "output=[m.strip(']') for m in output]\n",
    "\n",
    "#split the string on commas\n",
    "output=[m.split(',') for m in output]\n",
    "\n",
    "#convert the list of lists into integers instead of strings\n",
    "temp=list(output)\n",
    "output=[]\n",
    "for x in temp:\n",
    "    output.append(list(map(lambda y: int(float(y)), x)))"
   ]
  },
  {
   "cell_type": "code",
   "execution_count": 4,
   "metadata": {
    "collapsed": false
   },
   "outputs": [
    {
     "name": "stdout",
     "output_type": "stream",
     "text": [
      "2572\n",
      "2572\n",
      "2572\n",
      "2572\n"
     ]
    }
   ],
   "source": [
    "#check that the first is always a 1\n",
    "temp=[item[0] for item in output]\n",
    "print(len(temp))\n",
    "print(sum(temp))\n",
    "#they're the same, so always 1\n",
    "\n",
    "#check that the last is always a 1\n",
    "temp=[item[10] for item in output]\n",
    "print(len(temp))\n",
    "print(sum(temp))\n",
    "#also the same, so the last is a 1 too"
   ]
  },
  {
   "cell_type": "code",
   "execution_count": 5,
   "metadata": {
    "collapsed": true
   },
   "outputs": [],
   "source": [
    "#great, we can get rid of the first and last value since they are always the same\n",
    "output=[item[1:10] for item in output]\n",
    "\n",
    "#create a new value of the sum of the stability vector\n",
    "sum_output=[sum(item) for item in output]\n",
    "\n",
    "training['stabilityVec_total']=sum_output\n",
    "training['stabilityVec']=output\n",
    "\n",
    "#create separate values for each position\n",
    "for n in range(0,9):\n",
    "    temp=[]\n",
    "    [temp.append(x[n]) for x in training['stabilityVec']]\n",
    "    training['stabilityVec%s' % (n)]=temp"
   ]
  },
  {
   "cell_type": "code",
   "execution_count": 8,
   "metadata": {
    "collapsed": false
   },
   "outputs": [],
   "source": [
    "#add columns that may be of use for the classifier, ratios and differences of different values\n",
    "\n",
    "training['CovalentRadius_diff']=training['formulaA_elements_CovalentRadius']\\\n",
    "                                -training['formulaB_elements_CovalentRadius']\n",
    "training['CovalentRadius_ratio']=training['formulaA_elements_CovalentRadius']/\\\n",
    "                                training['formulaB_elements_CovalentRadius']\n",
    "\n",
    "training['MendeleevNumber_ratio']=training['formulaA_elements_MendeleevNumber']/\\\n",
    "                                  training['formulaB_elements_MendeleevNumber']\n",
    "training['MendeleevNumber_diff']=training['formulaA_elements_MendeleevNumber']-\\\n",
    "                                 training['formulaB_elements_MendeleevNumber']\n",
    "\n",
    "training['Electronegativity_diff']=training['formulaA_elements_Electronegativity']-\\\n",
    "                                   training['formulaB_elements_Electronegativity']\n",
    "#you will have zeros if you don't remove noble gases\n",
    "#training['Electronegativity_ratio']=training['formulaA_elements_Electronegativity']/\\\n",
    "#                                   training['formulaB_elements_Electronegativity']\n",
    "\n",
    "training['FirstIonizationEnergy_ratio']=training['formulaA_elements_FirstIonizationEnergy']/\\\n",
    "                                        training['formulaB_elements_FirstIonizationEnergy']\n",
    "training['FirstIonizationEnergy_diff']=training['formulaA_elements_FirstIonizationEnergy']-\\\n",
    "                                        training['formulaB_elements_FirstIonizationEnergy']\n",
    "\n",
    "training['AtomicVolume_ratio']=training['formulaA_elements_AtomicVolume']/\\\n",
    "                               training['formulaB_elements_AtomicVolume']\n",
    "\n",
    "training['BoilingT_ratio']=training['formulaA_elements_BoilingT']/\\\n",
    "                           training['formulaB_elements_BoilingT']\n",
    "\n",
    "training['BulkModulus_diff']=training['formulaA_elements_BulkModulus']-\\\n",
    "                             training['formulaB_elements_BulkModulus']\n",
    "\n",
    "training['Column_diff']=training['formulaA_elements_Column']-\\\n",
    "                        training['formulaB_elements_Column']\n",
    "\n",
    "training['Density_ratio']=training['formulaA_elements_Density']/\\\n",
    "                          training['formulaB_elements_Density']\n",
    "\n",
    "training['ElectronSurfaceDensityWS_diff']=training['formulaA_elements_ElectronSurfaceDensityWS']-\\\n",
    "                                          training['formulaB_elements_ElectronSurfaceDensityWS']\n",
    "\n",
    "training['GSenergy_pa_ratio']=training['formulaA_elements_GSenergy_pa']/\\\n",
    "                              training['formulaB_elements_GSenergy_pa']\n",
    "training['GSenergy_pa_diff']=training['formulaA_elements_CovalentRadius']\\\n",
    "                                -training['formulaB_elements_CovalentRadius']\n",
    "\n",
    "#I couldn't figure out what this value represents, but from its values these should give usable numbers\n",
    "training['GSestBCClatcnt_ratio']=training['formulaA_elements_GSestBCClatcnt']/\\\n",
    "                                 training['formulaB_elements_GSestBCClatcnt']\n",
    "training['GSestBCClatcnt_diff']=training['formulaA_elements_GSestBCClatcnt']\\\n",
    "                                -training['formulaB_elements_GSestBCClatcnt']\n",
    "\n",
    "training['GSestFCClatcnt_ratio']=training['formulaA_elements_GSestFCClatcnt']/\\\n",
    "                                 training['formulaB_elements_GSestFCClatcnt']\n",
    "training['GSestFCClatcnt_diff']=training['formulaA_elements_GSestFCClatcnt']\\\n",
    "                                -training['formulaB_elements_GSestFCClatcnt']\n",
    "\n",
    "training['GSmagmom_diff']=training['formulaA_elements_GSmagmom']\\\n",
    "                          -training['formulaB_elements_GSmagmom']\n",
    "\n",
    "training['GSvolume_pa_diff']=training['formulaA_elements_GSvolume_pa']\\\n",
    "                             -training['formulaB_elements_GSvolume_pa']\n",
    "training['GSvolume_pa_ratio']=training['formulaA_elements_GSvolume_pa']/\\\n",
    "                              training['formulaB_elements_GSvolume_pa']\n",
    "\n",
    "training['HHIr_diff']=training['formulaA_elements_HHIr']\\\n",
    "                      -training['formulaB_elements_HHIr']\n",
    "training['HHIp_diff']=training['formulaA_elements_HHIp']\\\n",
    "                      -training['formulaB_elements_HHIp']\n",
    "\n",
    "#heat capacity data appears incomplete, perhaps best not to use it?\n",
    "\n",
    "training['ICSDVolume_ratio']=training['formulaA_elements_ICSDVolume']/\\\n",
    "                             training['formulaB_elements_ICSDVolume']\n",
    "training['ICSDVolume_diff']=training['formulaA_elements_ICSDVolume']\\\n",
    "                            -training['formulaB_elements_ICSDVolume']\n",
    "\n",
    "training['element_number_ratio']=training['formulaA_elements_Number']/\\\n",
    "                                 training['formulaB_elements_Number']\n",
    "\n",
    "training['element_number_difference']=training['formulaA_elements_Number']-\\\n",
    "                                      training['formulaB_elements_Number']\n",
    "\n",
    "training['polarizability_ratio']=training['formulaA_elements_Polarizability']/\\\n",
    "                                 training['formulaB_elements_Polarizability']\n",
    "training['polarizability_difference']=training['formulaA_elements_Polarizability']-\\\n",
    "                                      training['formulaB_elements_Polarizability']\n",
    "\n",
    "training['row_difference']=training['formulaA_elements_Row']-\\\n",
    "                           training['formulaB_elements_Row']\n",
    "\n",
    "training['spacegroupnumber_ratio']=training['formulaA_elements_SpaceGroupNumber']/\\\n",
    "                                   training['formulaB_elements_SpaceGroupNumber']\n",
    "\n",
    "training['spacegroupnumber_difference']=training['formulaA_elements_SpaceGroupNumber']-\\\n",
    "                                        training['formulaB_elements_SpaceGroupNumber']\n",
    "\n",
    "training['avg_coordination_ratio']=training['avg_coordination_A']/\\\n",
    "                                   training['avg_coordination_B']\n",
    "training['avg_coordination_difference']=training['avg_coordination_A']-\\\n",
    "                                        training['avg_coordination_B']\n",
    "\n",
    "training['avg_nn_ratio']=training['avg_nearest_neighbor_distance_A']/\\\n",
    "                         training['avg_nearest_neighbor_distance_B']\n",
    "training['avg_nn_difference']=training['avg_nearest_neighbor_distance_A']-\\\n",
    "                              training['avg_nearest_neighbor_distance_B']\n",
    "\n",
    "training['meltingT_difference']=training['formulaA_elements_MeltingT']-\\\n",
    "                                training['formulaB_elements_MeltingT']\n",
    "\n",
    "training['mradius_difference']=training['formulaA_elements_MiracleRadius']-\\\n",
    "                               training['formulaB_elements_MiracleRadius']\n",
    "\n",
    "\n",
    "\n",
    "#Now for the 1/0 values for different areas of the periodic table\n",
    "training['is_both_alkali']=training['formulaA_elements_IsAlkali']*\\\n",
    "                           training['formulaB_elements_IsAlkali']\n",
    "training['alkali_difference']=abs(training['formulaA_elements_IsAlkali']-\\\n",
    "                                  training['formulaB_elements_IsAlkali'])\n",
    "\n",
    "training['is_both_dblock']=training['formulaA_elements_IsDBlock']*\\\n",
    "                           training['formulaB_elements_IsDBlock']\n",
    "training['dblock_difference']=abs(training['formulaA_elements_IsDBlock']-\\\n",
    "                                  training['formulaB_elements_IsDBlock'])\n",
    "\n",
    "training['is_both_fblock']=training['formulaA_elements_IsFBlock']*\\\n",
    "                           training['formulaB_elements_IsFBlock']\n",
    "training['fblock_difference']=abs(training['formulaA_elements_IsFBlock']-\\\n",
    "                                  training['formulaB_elements_IsFBlock'])\n",
    "\n",
    "training['is_both_metal']=training['formulaA_elements_IsMetal']*\\\n",
    "                          training['formulaB_elements_IsMetal']\n",
    "training['metal_difference']=abs(training['formulaA_elements_IsMetal']-\\\n",
    "                                 training['formulaB_elements_IsMetal'])\n",
    "\n",
    "training['is_both_metalloid']=training['formulaA_elements_IsMetalloid']*\\\n",
    "                              training['formulaB_elements_IsMetalloid']\n",
    "training['metalloid_difference']=abs(training['formulaA_elements_IsMetalloid']-\\\n",
    "                                     training['formulaB_elements_IsMetalloid'])\n",
    "\n",
    "training['is_both_nonmetal']=training['formulaA_elements_IsNonmetal']*\\\n",
    "                             training['formulaB_elements_IsNonmetal']\n",
    "training['nonmetal_difference']=abs(training['formulaA_elements_IsNonmetal']-\\\n",
    "                                    training['formulaB_elements_IsNonmetal'])\n",
    "\n",
    "#Now for the valence electrons in different orbitals\n",
    "\n",
    "#this first one generated inf values from the zeros, though I think this might still\n",
    "#be a useful metric\n",
    "#training['num_unfilled_ratio']=training['formulaA_elements_NUnfilled']/\\\n",
    "#                              training['formulaB_elements_NUnfilled']\n",
    "training['num_unfilled_difference']=training['formulaA_elements_NUnfilled']-\\\n",
    "                                    training['formulaB_elements_NUnfilled']\n",
    "\n",
    "training['num_valence_ratio']=training['formulaA_elements_NValance']/\\\n",
    "                              training['formulaB_elements_NValance']\n",
    "training['num_valence_difference']=training['formulaA_elements_NValance']-\\\n",
    "                                   training['formulaB_elements_NValance']\n",
    "\n",
    "training['num_dvalence_difference']=training['formulaA_elements_NdValence']-\\\n",
    "                                    training['formulaB_elements_NdValence']\n",
    "\n",
    "training['num_fvalence_difference']=training['formulaA_elements_NfValence']-\\\n",
    "                                    training['formulaB_elements_NfValence']\n",
    "\n",
    "training['num_pvalence_difference']=training['formulaA_elements_NpValence']-\\\n",
    "                                    training['formulaB_elements_NpValence']\n",
    "\n",
    "training['num_svalence_difference']=training['formulaA_elements_NsValence']-\\\n",
    "                                    training['formulaB_elements_NsValence']\n",
    "\n",
    "training['num_sunfilled_difference']=training['formulaA_elements_NsUnfilled']-\\\n",
    "                                     training['formulaB_elements_NsUnfilled']\n",
    "\n",
    "training['num_punfilled_difference']=training['formulaA_elements_NpUnfilled']-\\\n",
    "                                     training['formulaB_elements_NpUnfilled']\n",
    "\n",
    "training['num_dunfilled_difference']=training['formulaA_elements_NdUnfilled']-\\\n",
    "                                     training['formulaB_elements_NdUnfilled']\n",
    "\n",
    "training['num_funfilled_difference']=training['formulaA_elements_NfUnfilled']-\\\n",
    "                                     training['formulaB_elements_NfUnfilled']"
   ]
  },
  {
   "cell_type": "code",
   "execution_count": 9,
   "metadata": {
    "collapsed": false
   },
   "outputs": [
    {
     "name": "stdout",
     "output_type": "stream",
     "text": [
      "Sum for element Ar is 0\n",
      "Sum for element Ne is 0\n",
      "Sum for element He is 0\n",
      "Sum for element Kr is 0\n",
      "Sum for element Xe is 0\n"
     ]
    }
   ],
   "source": [
    "#do the noble gases ever react with anything?\n",
    "temp=training['formulaA'][training['stabilityVec_total']==0].value_counts()\n",
    "for x in temp.index:\n",
    "    if x in ['Ar', 'Ne', 'He', 'Kr', 'Xe']:\n",
    "        print('Sum for element %s is ' % (x) + str(np.sum(training['stabilityVec_total'][training['formulaA']==x])))"
   ]
  },
  {
   "cell_type": "code",
   "execution_count": 10,
   "metadata": {
    "collapsed": true
   },
   "outputs": [],
   "source": [
    "#Let's remove the noble gases then\n",
    "training_nonoble=training[~training['formulaA'].isin(['Xe', 'Ne', 'Ar', 'He', 'Kr'])]\n",
    "training_nonoble=training_nonoble[~training_nonoble['formulaB'].isin(['Xe', 'Ne', 'Ar', 'He', 'Kr'])]"
   ]
  },
  {
   "cell_type": "code",
   "execution_count": 12,
   "metadata": {
    "collapsed": false
   },
   "outputs": [],
   "source": [
    "#make a list with only the columns that we want to use\n",
    "col_names=list(training.columns)\n",
    "\n",
    "col_names.remove('formulaA')\n",
    "col_names.remove('formulaB')\n",
    "col_names.remove('stabilityVec')\n",
    "col_names.remove('stabilityVec_total')\n",
    "\n",
    "for i in range(9):\n",
    "    col_names.remove('stabilityVec%s' % i)"
   ]
  },
  {
   "cell_type": "code",
   "execution_count": 13,
   "metadata": {
    "collapsed": true
   },
   "outputs": [],
   "source": [
    "#now normalize those columns\n",
    "for i in col_names:\n",
    "    training[i]/=max(abs(training[i]))\n",
    "    training_nonoble[i]/=max(abs(training_nonoble[i]))"
   ]
  },
  {
   "cell_type": "code",
   "execution_count": null,
   "metadata": {
    "collapsed": true
   },
   "outputs": [],
   "source": []
  }
 ],
 "metadata": {
  "kernelspec": {
   "display_name": "Python 3",
   "language": "python",
   "name": "python3"
  },
  "language_info": {
   "codemirror_mode": {
    "name": "ipython",
    "version": 3
   },
   "file_extension": ".py",
   "mimetype": "text/x-python",
   "name": "python",
   "nbconvert_exporter": "python",
   "pygments_lexer": "ipython3",
   "version": "3.6.0"
  }
 },
 "nbformat": 4,
 "nbformat_minor": 2
}
