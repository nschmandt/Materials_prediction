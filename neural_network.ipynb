{
 "cells": [
  {
   "cell_type": "code",
   "execution_count": 1,
   "metadata": {
    "collapsed": false
   },
   "outputs": [
    {
     "name": "stderr",
     "output_type": "stream",
     "text": [
      "Using TensorFlow backend.\n"
     ]
    }
   ],
   "source": [
    "import tensorflow as tf\n",
    "from keras.models import Sequential\n",
    "from keras.layers import Dense, Dropout, Activation, Flatten\n",
    "from keras.layers import Convolution2D, MaxPooling2D\n",
    "from keras.utils import np_utils\n",
    "import matplotlib.pyplot as plt\n",
    "import pandas as pd\n",
    "import numpy as np\n",
    "import os\n",
    "import keras"
   ]
  },
  {
   "cell_type": "code",
   "execution_count": 4,
   "metadata": {
    "collapsed": false
   },
   "outputs": [
    {
     "name": "stdout",
     "output_type": "stream",
     "text": [
      "for vector 0, the mean f-score is 0.60\n",
      "True Positives: 5, False Positives: 1, False Negatives: 4\n"
     ]
    },
    {
     "name": "stderr",
     "output_type": "stream",
     "text": [
      "/home/nick/anaconda3/lib/python3.6/site-packages/ipykernel/__main__.py:47: RuntimeWarning: invalid value encountered in long_scalars\n"
     ]
    },
    {
     "name": "stdout",
     "output_type": "stream",
     "text": [
      "for vector 1, the mean f-score is nan\n",
      "True Positives: 0, False Positives: 0, False Negatives: 16\n",
      "for vector 2, the mean f-score is 0.30\n",
      "True Positives: 23, False Positives: 3, False Negatives: 96\n",
      "for vector 3, the mean f-score is 0.22\n",
      "True Positives: 4, False Positives: 0, False Negatives: 30\n",
      "for vector 4, the mean f-score is 0.19\n",
      "True Positives: 13, False Positives: 2, False Negatives: 103\n",
      "for vector 5, the mean f-score is nan\n",
      "True Positives: 0, False Positives: 0, False Negatives: 36\n",
      "for vector 6, the mean f-score is nan\n",
      "True Positives: 0, False Positives: 0, False Negatives: 71\n"
     ]
    },
    {
     "name": "stderr",
     "output_type": "stream",
     "text": [
      "/home/nick/anaconda3/lib/python3.6/site-packages/ipykernel/__main__.py:49: RuntimeWarning: invalid value encountered in double_scalars\n"
     ]
    },
    {
     "name": "stdout",
     "output_type": "stream",
     "text": [
      "for vector 7, the mean f-score is nan\n",
      "True Positives: 0, False Positives: 0, False Negatives: 77\n",
      "for vector 8, the mean f-score is nan\n",
      "True Positives: 0, False Positives: 0, False Negatives: 12\n"
     ]
    }
   ],
   "source": [
    "model=Sequential()\n",
    "s='relu'\n",
    "model.add(Dense(100, activation=s, input_dim=158))\n",
    "model.add(Dropout(.5))\n",
    "model.add(Dense(100, activation=s))\n",
    "model.add(Dropout(.5))\n",
    "model.add(Dense(1, activation='sigmoid'))\n",
    "keras.optimizers.RMSprop(lr=.001, rho=0.9, epsilon=1e-08, decay=0.0)\n",
    "model.compile(loss='binary_crossentropy', optimizer='rmsprop', metrics=['accuracy'])\n",
    "\n",
    "batches=20\n",
    "\n",
    "#Loop over all 9 prediction vectors\n",
    "for j in range(9):\n",
    "    \n",
    "    f_score_values=[]\n",
    "    true_pos_scores=[]\n",
    "    false_pos_scores=[]\n",
    "    false_neg_scores=[]\n",
    "    \n",
    "    #Loop over the five different cross-validation sets\n",
    "    for i in range(5):\n",
    "        temp=list(range(5))\n",
    "        temp.remove(i)\n",
    "        #this is our set that is removed from training for validation\n",
    "        val=training_nonoble[i::5]\n",
    "        #training set consists of the other values\n",
    "        train_X=[training_nonoble[temp[0]::5], training_nonoble[temp[1]::5], training_nonoble[temp[2]::5], training_nonoble[temp[3]::5]]\n",
    "        train_X=pd.concat(train_X)\n",
    "        \n",
    "        #Fit the model\n",
    "        temp=np.array(train_X[col_names])\n",
    "        model.fit(temp, train_X['stabilityVec%s' % j], batch_size=batches, epochs=2000, verbose=0)\n",
    "        #Predict the model\n",
    "        temp=np.array(val[col_names])\n",
    "        nn_prediction=model.predict(temp)\n",
    "        #Turn it back into a list\n",
    "        nn_prediction=np.ndarray.tolist(nn_prediction)\n",
    "        nn_prediction=[int(nn_prediction[i][0]) for i in range(len(nn_prediction))]\n",
    "        \n",
    "        #Check for false positives, false negatives and true positives\n",
    "        temp=nn_prediction-val['stabilityVec%s' % j]\n",
    "        false_pos=np.sum(temp==1)\n",
    "        false_neg=np.sum(temp==-1)\n",
    "        temp=nn_prediction+val['stabilityVec%s' % j]\n",
    "        true_pos=np.sum(temp==2)\n",
    "        precision=true_pos/(true_pos+false_pos)\n",
    "        recall=true_pos/(true_pos+false_neg)\n",
    "        f_score=2*precision*recall/(precision+recall)\n",
    "        f_score_values.append(f_score)\n",
    "        true_pos_scores.append(true_pos)\n",
    "        false_pos_scores.append(false_pos)\n",
    "        false_neg_scores.append(false_neg)\n",
    "    print('for vector %s, the mean f-score is %.2f' % (str(j), np.mean(f_score_values)))\n",
    "    print('True Positives: %d, False Positives: %d, False Negatives: %d' % (np.mean(true_pos_scores), \\\n",
    "            np.mean(false_pos_scores), np.mean(false_neg_scores)))"
   ]
  },
  {
   "cell_type": "code",
   "execution_count": null,
   "metadata": {
    "collapsed": true
   },
   "outputs": [],
   "source": []
  }
 ],
 "metadata": {
  "kernelspec": {
   "display_name": "Python 3",
   "language": "python",
   "name": "python3"
  },
  "language_info": {
   "codemirror_mode": {
    "name": "ipython",
    "version": 3
   },
   "file_extension": ".py",
   "mimetype": "text/x-python",
   "name": "python",
   "nbconvert_exporter": "python",
   "pygments_lexer": "ipython3",
   "version": "3.6.0"
  }
 },
 "nbformat": 4,
 "nbformat_minor": 2
}
